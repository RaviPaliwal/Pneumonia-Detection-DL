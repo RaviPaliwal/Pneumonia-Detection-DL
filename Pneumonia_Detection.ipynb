{
  "cells": [
    {
      "cell_type": "code",
      "execution_count": 9,
      "metadata": {
        "colab": {
          "base_uri": "https://localhost:8080/",
          "height": 73
        },
        "id": "NwcgMatOUv9M",
        "outputId": "e1629ca4-8f5a-42e7-9dde-45a8022aa90c"
      },
      "outputs": [
        {
          "data": {
            "text/html": [
              "\n",
              "     <input type=\"file\" id=\"files-e8f6a10c-87c1-4d02-8a49-80c49d5a390b\" name=\"files[]\" multiple disabled\n",
              "        style=\"border:none\" />\n",
              "     <output id=\"result-e8f6a10c-87c1-4d02-8a49-80c49d5a390b\">\n",
              "      Upload widget is only available when the cell has been executed in the\n",
              "      current browser session. Please rerun this cell to enable.\n",
              "      </output>\n",
              "      <script>// Copyright 2017 Google LLC\n",
              "//\n",
              "// Licensed under the Apache License, Version 2.0 (the \"License\");\n",
              "// you may not use this file except in compliance with the License.\n",
              "// You may obtain a copy of the License at\n",
              "//\n",
              "//      http://www.apache.org/licenses/LICENSE-2.0\n",
              "//\n",
              "// Unless required by applicable law or agreed to in writing, software\n",
              "// distributed under the License is distributed on an \"AS IS\" BASIS,\n",
              "// WITHOUT WARRANTIES OR CONDITIONS OF ANY KIND, either express or implied.\n",
              "// See the License for the specific language governing permissions and\n",
              "// limitations under the License.\n",
              "\n",
              "/**\n",
              " * @fileoverview Helpers for google.colab Python module.\n",
              " */\n",
              "(function(scope) {\n",
              "function span(text, styleAttributes = {}) {\n",
              "  const element = document.createElement('span');\n",
              "  element.textContent = text;\n",
              "  for (const key of Object.keys(styleAttributes)) {\n",
              "    element.style[key] = styleAttributes[key];\n",
              "  }\n",
              "  return element;\n",
              "}\n",
              "\n",
              "// Max number of bytes which will be uploaded at a time.\n",
              "const MAX_PAYLOAD_SIZE = 100 * 1024;\n",
              "\n",
              "function _uploadFiles(inputId, outputId) {\n",
              "  const steps = uploadFilesStep(inputId, outputId);\n",
              "  const outputElement = document.getElementById(outputId);\n",
              "  // Cache steps on the outputElement to make it available for the next call\n",
              "  // to uploadFilesContinue from Python.\n",
              "  outputElement.steps = steps;\n",
              "\n",
              "  return _uploadFilesContinue(outputId);\n",
              "}\n",
              "\n",
              "// This is roughly an async generator (not supported in the browser yet),\n",
              "// where there are multiple asynchronous steps and the Python side is going\n",
              "// to poll for completion of each step.\n",
              "// This uses a Promise to block the python side on completion of each step,\n",
              "// then passes the result of the previous step as the input to the next step.\n",
              "function _uploadFilesContinue(outputId) {\n",
              "  const outputElement = document.getElementById(outputId);\n",
              "  const steps = outputElement.steps;\n",
              "\n",
              "  const next = steps.next(outputElement.lastPromiseValue);\n",
              "  return Promise.resolve(next.value.promise).then((value) => {\n",
              "    // Cache the last promise value to make it available to the next\n",
              "    // step of the generator.\n",
              "    outputElement.lastPromiseValue = value;\n",
              "    return next.value.response;\n",
              "  });\n",
              "}\n",
              "\n",
              "/**\n",
              " * Generator function which is called between each async step of the upload\n",
              " * process.\n",
              " * @param {string} inputId Element ID of the input file picker element.\n",
              " * @param {string} outputId Element ID of the output display.\n",
              " * @return {!Iterable<!Object>} Iterable of next steps.\n",
              " */\n",
              "function* uploadFilesStep(inputId, outputId) {\n",
              "  const inputElement = document.getElementById(inputId);\n",
              "  inputElement.disabled = false;\n",
              "\n",
              "  const outputElement = document.getElementById(outputId);\n",
              "  outputElement.innerHTML = '';\n",
              "\n",
              "  const pickedPromise = new Promise((resolve) => {\n",
              "    inputElement.addEventListener('change', (e) => {\n",
              "      resolve(e.target.files);\n",
              "    });\n",
              "  });\n",
              "\n",
              "  const cancel = document.createElement('button');\n",
              "  inputElement.parentElement.appendChild(cancel);\n",
              "  cancel.textContent = 'Cancel upload';\n",
              "  const cancelPromise = new Promise((resolve) => {\n",
              "    cancel.onclick = () => {\n",
              "      resolve(null);\n",
              "    };\n",
              "  });\n",
              "\n",
              "  // Wait for the user to pick the files.\n",
              "  const files = yield {\n",
              "    promise: Promise.race([pickedPromise, cancelPromise]),\n",
              "    response: {\n",
              "      action: 'starting',\n",
              "    }\n",
              "  };\n",
              "\n",
              "  cancel.remove();\n",
              "\n",
              "  // Disable the input element since further picks are not allowed.\n",
              "  inputElement.disabled = true;\n",
              "\n",
              "  if (!files) {\n",
              "    return {\n",
              "      response: {\n",
              "        action: 'complete',\n",
              "      }\n",
              "    };\n",
              "  }\n",
              "\n",
              "  for (const file of files) {\n",
              "    const li = document.createElement('li');\n",
              "    li.append(span(file.name, {fontWeight: 'bold'}));\n",
              "    li.append(span(\n",
              "        `(${file.type || 'n/a'}) - ${file.size} bytes, ` +\n",
              "        `last modified: ${\n",
              "            file.lastModifiedDate ? file.lastModifiedDate.toLocaleDateString() :\n",
              "                                    'n/a'} - `));\n",
              "    const percent = span('0% done');\n",
              "    li.appendChild(percent);\n",
              "\n",
              "    outputElement.appendChild(li);\n",
              "\n",
              "    const fileDataPromise = new Promise((resolve) => {\n",
              "      const reader = new FileReader();\n",
              "      reader.onload = (e) => {\n",
              "        resolve(e.target.result);\n",
              "      };\n",
              "      reader.readAsArrayBuffer(file);\n",
              "    });\n",
              "    // Wait for the data to be ready.\n",
              "    let fileData = yield {\n",
              "      promise: fileDataPromise,\n",
              "      response: {\n",
              "        action: 'continue',\n",
              "      }\n",
              "    };\n",
              "\n",
              "    // Use a chunked sending to avoid message size limits. See b/62115660.\n",
              "    let position = 0;\n",
              "    do {\n",
              "      const length = Math.min(fileData.byteLength - position, MAX_PAYLOAD_SIZE);\n",
              "      const chunk = new Uint8Array(fileData, position, length);\n",
              "      position += length;\n",
              "\n",
              "      const base64 = btoa(String.fromCharCode.apply(null, chunk));\n",
              "      yield {\n",
              "        response: {\n",
              "          action: 'append',\n",
              "          file: file.name,\n",
              "          data: base64,\n",
              "        },\n",
              "      };\n",
              "\n",
              "      let percentDone = fileData.byteLength === 0 ?\n",
              "          100 :\n",
              "          Math.round((position / fileData.byteLength) * 100);\n",
              "      percent.textContent = `${percentDone}% done`;\n",
              "\n",
              "    } while (position < fileData.byteLength);\n",
              "  }\n",
              "\n",
              "  // All done.\n",
              "  yield {\n",
              "    response: {\n",
              "      action: 'complete',\n",
              "    }\n",
              "  };\n",
              "}\n",
              "\n",
              "scope.google = scope.google || {};\n",
              "scope.google.colab = scope.google.colab || {};\n",
              "scope.google.colab._files = {\n",
              "  _uploadFiles,\n",
              "  _uploadFilesContinue,\n",
              "};\n",
              "})(self);\n",
              "</script> "
            ],
            "text/plain": [
              "<IPython.core.display.HTML object>"
            ]
          },
          "metadata": {},
          "output_type": "display_data"
        },
        {
          "name": "stdout",
          "output_type": "stream",
          "text": [
            "Saving kaggle.json to kaggle.json\n"
          ]
        }
      ],
      "source": [
        "from google.colab import files\n",
        "files.upload()\n",
        "!mkdir -p ~/.kaggle\n",
        "!cp kaggle.json ~/.kaggle/\n",
        "!chmod 600 ~/.kaggle/kaggle.json\n",
        "!kaggle datasets download -d paultimothymooney/chest-xray-pneumonia"
      ]
    },
    {
      "cell_type": "code",
      "execution_count": null,
      "metadata": {
        "id": "tx7kauhWUwg2"
      },
      "outputs": [],
      "source": [
        "# prompt: extract to a folder\n",
        "!unzip chest-xray-pneumonia.zip -d /content/chest-xray-pneumonia"
      ]
    },
    {
      "cell_type": "code",
      "execution_count": 12,
      "metadata": {
        "id": "Rt8F5L49XGmE"
      },
      "outputs": [],
      "source": [
        "# prompt: move all to a single directory called PneumoniaCxr NORMAL and PNEUMONIA Dont mixup Classes\n",
        "\n",
        "import os\n",
        "import shutil\n",
        "\n",
        "# Define the source directory\n",
        "source_dir = '/content/chest-xray-pneumonia/chest_xray'\n",
        "\n",
        "# Define the destination directory\n",
        "dest_dir = '/content/PneumoniaCxr'\n",
        "\n",
        "# Create the destination directory if it doesn't exist\n",
        "if not os.path.exists(dest_dir):\n",
        "    os.makedirs(dest_dir)\n",
        "\n",
        "# Loop through the train, test, and val directories\n",
        "for split in ['train', 'test', 'val']:\n",
        "    split_dir = os.path.join(source_dir, split)\n",
        "    for class_name in ['NORMAL', 'PNEUMONIA']:\n",
        "        class_dir = os.path.join(split_dir, class_name)\n",
        "        for filename in os.listdir(class_dir):\n",
        "            source_file = os.path.join(class_dir, filename)\n",
        "            dest_file = os.path.join(dest_dir, class_name, filename)\n",
        "\n",
        "            # Create the destination class directory if it doesn't exist\n",
        "            if not os.path.exists(os.path.join(dest_dir, class_name)):\n",
        "                os.makedirs(os.path.join(dest_dir, class_name))\n",
        "\n",
        "            # Move the file\n",
        "            shutil.move(source_file, dest_file)\n"
      ]
    },
    {
      "cell_type": "code",
      "execution_count": 14,
      "metadata": {
        "id": "wOTv86j7XeQL"
      },
      "outputs": [],
      "source": [
        "# prompt: delete older folders\n",
        "!rm -rf /content/chest-xray-pneumonia\n",
        "!rm -rf /content/chest-xray-pneumonia.zip"
      ]
    },
    {
      "cell_type": "code",
      "execution_count": 3,
      "metadata": {
        "colab": {
          "base_uri": "https://localhost:8080/"
        },
        "id": "_GCGnrvZXvNw",
        "outputId": "63df3cb3-37e0-4d93-814c-7bd6c7c9ebc1"
      },
      "outputs": [
        {
          "name": "stdout",
          "output_type": "stream",
          "text": [
            "Train data classes: {'train': 2, 'val': 2, 'test': 2}\n"
          ]
        }
      ],
      "source": [
        "# prompt: Show No of Classes in Train Test And Val data\n",
        "\n",
        "import os\n",
        "base = '/content/PneumoniaCxr'\n",
        "def count_classes(directory):\n",
        "  \"\"\"\n",
        "  Counts the number of classes in a directory.\n",
        "\n",
        "  Args:\n",
        "    directory: The path to the directory.\n",
        "\n",
        "  Returns:\n",
        "    A dictionary with the class names as keys and the number of images as values.\n",
        "  \"\"\"\n",
        "  class_counts = {}\n",
        "  for class_name in os.listdir(directory):\n",
        "    class_path = os.path.join(directory, class_name)\n",
        "    if os.path.isdir(class_path):\n",
        "      class_counts[class_name] = len(os.listdir(class_path))\n",
        "  return class_counts\n",
        "\n",
        "# Count classes\n",
        "counts = count_classes(f'{base}')\n",
        "print(\"Train data classes:\", counts)"
      ]
    },
    {
      "cell_type": "code",
      "execution_count": 23,
      "metadata": {
        "id": "-7Tsh9ijYSO0"
      },
      "outputs": [],
      "source": [
        "import numpy as np\n",
        "import os\n",
        "import cv2\n",
        "from keras.preprocessing.image import ImageDataGenerator\n",
        "import glob\n",
        "\n",
        "# Define the directory for the images\n",
        "train_dir = base\n",
        "\n",
        "# Define the data generator with desired augmentations\n",
        "datagen = ImageDataGenerator(\n",
        "    rotation_range=15,\n",
        "    width_shift_range=0.2,\n",
        "    height_shift_range=0.2,\n",
        "    shear_range=0.2,\n",
        "    zoom_range=0.2,\n",
        "    brightness_range=[0.8, 1.2],\n",
        "    fill_mode='nearest'\n",
        ")\n",
        "\n",
        "# Function to count images per class using glob\n",
        "def count_classes(directory):\n",
        "    class_counts = {}\n",
        "    for class_name in os.listdir(directory):\n",
        "        class_path = os.path.join(directory, class_name)\n",
        "        if os.path.isdir(class_path):\n",
        "            # Use glob to filter non-augmented images\n",
        "            image_files = glob.glob(os.path.join(class_path, '*[!augmented_]*.*'))\n",
        "            class_counts[class_name] = len(image_files)\n",
        "    return class_counts\n",
        "\n",
        "# Get the class counts\n",
        "train_counts = count_classes(train_dir)\n",
        "\n",
        "# Find the class with the most images\n",
        "max_count = max(train_counts.values())\n",
        "\n",
        "# Loop through each class and augment the images\n",
        "for class_name in train_counts:\n",
        "    class_path = os.path.join(train_dir, class_name)\n",
        "    count = train_counts[class_name]\n",
        "    if count < max_count:\n",
        "        # Calculate the number of images to generate\n",
        "        num_images_to_generate = max_count - count\n",
        "\n",
        "        # Get the image filenames using glob, excluding already augmented images\n",
        "        image_filenames = glob.glob(os.path.join(class_path, '*[!augmented_]*.*'))\n",
        "\n",
        "        # Generate augmented images\n",
        "        for i in range(num_images_to_generate):\n",
        "            # Select a random image\n",
        "            random_image_index = np.random.randint(0, len(image_filenames))\n",
        "            image_path = image_filenames[random_image_index]\n",
        "\n",
        "            # Load the image\n",
        "            img = cv2.imread(image_path)\n",
        "            if img is None:\n",
        "                continue  # Skip if the image is not loaded correctly\n",
        "            img = cv2.cvtColor(img, cv2.COLOR_BGR2RGB)\n",
        "\n",
        "            # Reshape the image to a batch of 1\n",
        "            x = img.reshape((1,) + img.shape)\n",
        "\n",
        "            # Generate augmented images\n",
        "            it = datagen.flow(x, batch_size=1)\n",
        "            batch = next(it)\n",
        "\n",
        "            # Save the augmented image\n",
        "            augmented_image = batch[0].astype('uint8')\n",
        "            new_filename = f\"augmented_{i}_{os.path.basename(image_filenames[random_image_index])}\"\n",
        "            new_image_path = os.path.join(class_path, new_filename)\n",
        "            cv2.imwrite(new_image_path, cv2.cvtColor(augmented_image, cv2.COLOR_RGB2BGR))\n"
      ]
    },
    {
      "cell_type": "code",
      "execution_count": 24,
      "metadata": {
        "colab": {
          "base_uri": "https://localhost:8080/"
        },
        "id": "JsYHjaElcStS",
        "outputId": "df5ceb49-50f6-4637-b698-342d81fc8030"
      },
      "outputs": [
        {
          "name": "stdout",
          "output_type": "stream",
          "text": [
            "Train data classes: {'PNEUMONIA': 4273, 'NORMAL': 4273}\n"
          ]
        }
      ],
      "source": [
        "counts = count_classes(f'{base}')\n",
        "print(\"Train data classes:\", counts)"
      ]
    },
    {
      "cell_type": "code",
      "execution_count": 26,
      "metadata": {
        "id": "0s8ij7wWbejo"
      },
      "outputs": [],
      "source": [
        "!zip -r /content/drive/MyDrive/PneumoniaCxr.zip /content/PneumoniaCxr > /dev/null"
      ]
    },
    {
      "cell_type": "markdown",
      "metadata": {
        "id": "OQOgr2VukvUb"
      },
      "source": [
        "# **Loading From Drive**"
      ]
    },
    {
      "cell_type": "code",
      "execution_count": 5,
      "metadata": {
        "id": "MccYGXxIk8gY"
      },
      "outputs": [],
      "source": [
        "!unzip /content/drive/MyDrive/PneumoniaCxr.zip -d /"
      ]
    },
    {
      "cell_type": "markdown",
      "metadata": {
        "id": "A36K7BHMn8NR"
      },
      "source": [
        "# **Updating TF & Keras**"
      ]
    },
    {
      "cell_type": "code",
      "execution_count": null,
      "metadata": {
        "id": "jICJKtV1n7Ha"
      },
      "outputs": [],
      "source": [
        "!pip install --upgrade tensorflow\n",
        "!pip install --upgrade keras"
      ]
    },
    {
      "cell_type": "code",
      "execution_count": null,
      "metadata": {
        "id": "Dp09DroTzJ_v"
      },
      "outputs": [],
      "source": [
        "import os\n",
        "base = '/content/PneumoniaCxr'\n",
        "def count_classes(directory):\n",
        "  \"\"\"\n",
        "  Counts the number of classes in a directory.\n",
        "\n",
        "  Args:\n",
        "    directory: The path to the directory.\n",
        "\n",
        "  Returns:\n",
        "    A dictionary with the class names as keys and the number of images as values.\n",
        "  \"\"\"\n",
        "  class_counts = {}\n",
        "  for class_name in os.listdir(directory):\n",
        "    class_path = os.path.join(directory, class_name)\n",
        "    if os.path.isdir(class_path):\n",
        "      class_counts[class_name] = len(os.listdir(class_path))\n",
        "  return class_counts"
      ]
    },
    {
      "cell_type": "code",
      "execution_count": null,
      "metadata": {
        "id": "qfFA4MrjZxGZ"
      },
      "outputs": [],
      "source": [
        "import os\n",
        "import shutil\n",
        "import numpy as np\n",
        "from sklearn.model_selection import train_test_split\n",
        "\n",
        "# Base directory\n",
        "base = '/content/PneumoniaCxr/'\n",
        "\n",
        "# Directories for Normal and Pneumonia\n",
        "normal_dir = os.path.join(base, 'NORMAL')\n",
        "pneumonia_dir = os.path.join(base, 'PNEUMONIA')\n",
        "\n",
        "# Helper function to move images to respective folders\n",
        "def move_images(image_list, src_dir, dest_dir):\n",
        "    for img in image_list:\n",
        "        src_path = os.path.join(src_dir, img)\n",
        "        dest_path = os.path.join(dest_dir, img)\n",
        "        shutil.move(src_path, dest_path)\n",
        "\n",
        "# Create new directories for train, val, and test splits\n",
        "def create_split_folders(base_dir, split_names):\n",
        "    for split in split_names:\n",
        "        os.makedirs(os.path.join(base_dir, split, 'NORMAL'), exist_ok=True)\n",
        "        os.makedirs(os.path.join(base_dir, split, 'PNEUMONIA'), exist_ok=True)\n",
        "\n",
        "# Function to handle train/val/test split\n",
        "def split_and_move_images(class_images, class_name, base_dir, split_ratio=(0.7, 0.15, 0.15), random_state=42):\n",
        "    train_imgs, test_imgs = train_test_split(class_images, test_size=1-split_ratio[0], random_state=random_state)\n",
        "    val_imgs, test_imgs = train_test_split(test_imgs, test_size=split_ratio[2]/(split_ratio[1] + split_ratio[2]), random_state=random_state)\n",
        "\n",
        "    # Move images to respective folders\n",
        "    move_images(train_imgs, os.path.join(base_dir, class_name), os.path.join(base_dir, 'train', class_name))\n",
        "    move_images(val_imgs, os.path.join(base_dir, class_name), os.path.join(base_dir, 'val', class_name))\n",
        "    move_images(test_imgs, os.path.join(base_dir, class_name), os.path.join(base_dir, 'test', class_name))\n",
        "\n",
        "# List of files in each class\n",
        "normal_images = os.listdir(normal_dir)\n",
        "pneumonia_images = os.listdir(pneumonia_dir)\n",
        "\n",
        "# Create split folders\n",
        "split_names = ['train', 'val', 'test']\n",
        "create_split_folders(base, split_names)\n",
        "\n",
        "# Split and move images for both NORMAL and PNEUMONIA\n",
        "split_and_move_images(normal_images, 'NORMAL', base)\n",
        "split_and_move_images(pneumonia_images, 'PNEUMONIA', base)\n",
        "\n",
        "# Remove old\n",
        "!rm -rf /content/PneumoniaCxr/NORMAL\n",
        "!rm -rf /content/PneumoniaCxr/PNEUMONIA"
      ]
    },
    {
      "cell_type": "code",
      "execution_count": null,
      "metadata": {
        "id": "hG5Bmx_Piu7C"
      },
      "outputs": [],
      "source": [
        "train_counts = count_classes(f'{base}/train')\n",
        "test_counts = count_classes(f'{base}/test')\n",
        "val_counts = count_classes(f'{base}/val')\n",
        "print(\"Train data classes:\", train_counts)\n",
        "print(\"Test data classes:\", test_counts)\n",
        "print(\"Validation data classes:\", val_counts)"
      ]
    },
    {
      "cell_type": "code",
      "execution_count": 5,
      "metadata": {
        "colab": {
          "base_uri": "https://localhost:8080/"
        },
        "id": "RO801wGMjTwI",
        "outputId": "0b53b9e2-420e-4d91-8211-98d734b2a2aa"
      },
      "outputs": [
        {
          "name": "stdout",
          "output_type": "stream",
          "text": [
            "Found 5982 images belonging to 2 classes.\n",
            "Found 1282 images belonging to 2 classes.\n",
            "Found 1282 images belonging to 2 classes.\n"
          ]
        }
      ],
      "source": [
        "# Create data generators without augmentation, only rescaling\n",
        "from tensorflow.keras.preprocessing.image import ImageDataGenerator\n",
        "\n",
        "img_size = 224\n",
        "train_datagen = ImageDataGenerator(rescale=1./255)\n",
        "val_datagen = ImageDataGenerator(rescale=1./255)\n",
        "test_datagen = ImageDataGenerator(rescale=1./255)\n",
        "\n",
        "# Load the datasets\n",
        "train_data = train_datagen.flow_from_directory(\n",
        "    os.path.join(base, 'train'),\n",
        "    target_size=(img_size, img_size),\n",
        "    batch_size=64,\n",
        "    class_mode='binary',\n",
        "    shuffle=True\n",
        ")\n",
        "\n",
        "val_data = val_datagen.flow_from_directory(\n",
        "    os.path.join(base, 'val'),\n",
        "    target_size=(img_size, img_size),\n",
        "    batch_size=64,\n",
        "    class_mode='binary',\n",
        "    shuffle=True\n",
        ")\n",
        "\n",
        "test_data = test_datagen.flow_from_directory(\n",
        "    os.path.join(base, 'test'),\n",
        "    target_size=(img_size, img_size),\n",
        "    batch_size=64,\n",
        "    class_mode='binary',\n",
        "    shuffle=False\n",
        ")"
      ]
    },
    {
      "cell_type": "code",
      "execution_count": 20,
      "metadata": {
        "id": "irXyadEbnkLE"
      },
      "outputs": [],
      "source": [
        "# General Imports for Models\n",
        "from keras.applications import MobileNet\n",
        "from tensorflow.keras.applications import DenseNet121\n",
        "from keras.layers import Dense, GlobalAveragePooling2D, Dropout\n",
        "from keras.models import Model\n",
        "from keras.optimizers import Adam\n",
        "from keras.callbacks import ModelCheckpoint, EarlyStopping\n",
        "from keras.callbacks import ReduceLROnPlateau"
      ]
    },
    {
      "cell_type": "code",
      "execution_count": 11,
      "metadata": {
        "colab": {
          "base_uri": "https://localhost:8080/"
        },
        "id": "FJB03HkSnwKn",
        "outputId": "79348054-f90a-49d9-b2f3-ec30202fde9b"
      },
      "outputs": [
        {
          "name": "stdout",
          "output_type": "stream",
          "text": [
            "Epoch 1/50\n"
          ]
        },
        {
          "name": "stderr",
          "output_type": "stream",
          "text": [
            "/usr/local/lib/python3.10/dist-packages/keras/src/trainers/data_adapters/py_dataset_adapter.py:122: UserWarning: Your `PyDataset` class should call `super().__init__(**kwargs)` in its constructor. `**kwargs` can include `workers`, `use_multiprocessing`, `max_queue_size`. Do not pass these arguments to `fit()`, as they will be ignored.\n",
            "  self._warn_if_super_not_called()\n"
          ]
        },
        {
          "name": "stdout",
          "output_type": "stream",
          "text": [
            "\u001b[1m94/94\u001b[0m \u001b[32m━━━━━━━━━━━━━━━━━━━━\u001b[0m\u001b[37m\u001b[0m \u001b[1m0s\u001b[0m 816ms/step - accuracy: 0.7990 - loss: 0.6674\n",
            "Epoch 1: val_loss improved from inf to 0.14812, saving model to mnbest_model.keras\n",
            "\u001b[1m94/94\u001b[0m \u001b[32m━━━━━━━━━━━━━━━━━━━━\u001b[0m\u001b[37m\u001b[0m \u001b[1m115s\u001b[0m 1s/step - accuracy: 0.8000 - loss: 0.6637 - val_accuracy: 0.9532 - val_loss: 0.1481 - learning_rate: 0.0010\n",
            "Epoch 2/50\n",
            "\u001b[1m93/94\u001b[0m \u001b[32m━━━━━━━━━━━━━━━━━━━\u001b[0m\u001b[37m━\u001b[0m \u001b[1m0s\u001b[0m 638ms/step - accuracy: 0.9541 - loss: 0.1266\n",
            "Epoch 2: val_loss improved from 0.14812 to 0.10881, saving model to mnbest_model.keras\n",
            "\u001b[1m94/94\u001b[0m \u001b[32m━━━━━━━━━━━━━━━━━━━━\u001b[0m\u001b[37m\u001b[0m \u001b[1m79s\u001b[0m 780ms/step - accuracy: 0.9540 - loss: 0.1266 - val_accuracy: 0.9610 - val_loss: 0.1088 - learning_rate: 0.0010\n",
            "Epoch 3/50\n",
            "\u001b[1m93/94\u001b[0m \u001b[32m━━━━━━━━━━━━━━━━━━━\u001b[0m\u001b[37m━\u001b[0m \u001b[1m0s\u001b[0m 635ms/step - accuracy: 0.9640 - loss: 0.0992\n",
            "Epoch 3: val_loss improved from 0.10881 to 0.10330, saving model to mnbest_model.keras\n",
            "\u001b[1m94/94\u001b[0m \u001b[32m━━━━━━━━━━━━━━━━━━━━\u001b[0m\u001b[37m\u001b[0m \u001b[1m81s\u001b[0m 778ms/step - accuracy: 0.9639 - loss: 0.0993 - val_accuracy: 0.9672 - val_loss: 0.1033 - learning_rate: 0.0010\n",
            "Epoch 4/50\n",
            "\u001b[1m94/94\u001b[0m \u001b[32m━━━━━━━━━━━━━━━━━━━━\u001b[0m\u001b[37m\u001b[0m \u001b[1m0s\u001b[0m 646ms/step - accuracy: 0.9669 - loss: 0.0899\n",
            "Epoch 4: val_loss improved from 0.10330 to 0.09759, saving model to mnbest_model.keras\n",
            "\u001b[1m94/94\u001b[0m \u001b[32m━━━━━━━━━━━━━━━━━━━━\u001b[0m\u001b[37m\u001b[0m \u001b[1m79s\u001b[0m 793ms/step - accuracy: 0.9669 - loss: 0.0898 - val_accuracy: 0.9696 - val_loss: 0.0976 - learning_rate: 0.0010\n",
            "Epoch 5/50\n",
            "\u001b[1m94/94\u001b[0m \u001b[32m━━━━━━━━━━━━━━━━━━━━\u001b[0m\u001b[37m\u001b[0m \u001b[1m0s\u001b[0m 640ms/step - accuracy: 0.9683 - loss: 0.0848\n",
            "Epoch 5: val_loss improved from 0.09759 to 0.09500, saving model to mnbest_model.keras\n",
            "\u001b[1m94/94\u001b[0m \u001b[32m━━━━━━━━━━━━━━━━━━━━\u001b[0m\u001b[37m\u001b[0m \u001b[1m81s\u001b[0m 786ms/step - accuracy: 0.9683 - loss: 0.0848 - val_accuracy: 0.9696 - val_loss: 0.0950 - learning_rate: 0.0010\n",
            "Epoch 6/50\n",
            "\u001b[1m93/94\u001b[0m \u001b[32m━━━━━━━━━━━━━━━━━━━\u001b[0m\u001b[37m━\u001b[0m \u001b[1m0s\u001b[0m 627ms/step - accuracy: 0.9608 - loss: 0.0981\n",
            "Epoch 6: val_loss did not improve from 0.09500\n",
            "\u001b[1m94/94\u001b[0m \u001b[32m━━━━━━━━━━━━━━━━━━━━\u001b[0m\u001b[37m\u001b[0m \u001b[1m76s\u001b[0m 766ms/step - accuracy: 0.9609 - loss: 0.0979 - val_accuracy: 0.9688 - val_loss: 0.0951 - learning_rate: 0.0010\n",
            "Epoch 7/50\n",
            "\u001b[1m94/94\u001b[0m \u001b[32m━━━━━━━━━━━━━━━━━━━━\u001b[0m\u001b[37m\u001b[0m \u001b[1m0s\u001b[0m 628ms/step - accuracy: 0.9707 - loss: 0.0721\n",
            "Epoch 7: val_loss did not improve from 0.09500\n",
            "\n",
            "Epoch 7: ReduceLROnPlateau reducing learning rate to 0.0005000000237487257.\n",
            "\u001b[1m94/94\u001b[0m \u001b[32m━━━━━━━━━━━━━━━━━━━━\u001b[0m\u001b[37m\u001b[0m \u001b[1m78s\u001b[0m 772ms/step - accuracy: 0.9707 - loss: 0.0721 - val_accuracy: 0.9680 - val_loss: 0.1022 - learning_rate: 0.0010\n",
            "Epoch 8/50\n",
            "\u001b[1m94/94\u001b[0m \u001b[32m━━━━━━━━━━━━━━━━━━━━\u001b[0m\u001b[37m\u001b[0m \u001b[1m0s\u001b[0m 632ms/step - accuracy: 0.9789 - loss: 0.0570\n",
            "Epoch 8: val_loss improved from 0.09500 to 0.09396, saving model to mnbest_model.keras\n",
            "\u001b[1m94/94\u001b[0m \u001b[32m━━━━━━━━━━━━━━━━━━━━\u001b[0m\u001b[37m\u001b[0m \u001b[1m90s\u001b[0m 855ms/step - accuracy: 0.9789 - loss: 0.0570 - val_accuracy: 0.9696 - val_loss: 0.0940 - learning_rate: 5.0000e-04\n",
            "Epoch 9/50\n",
            "\u001b[1m93/94\u001b[0m \u001b[32m━━━━━━━━━━━━━━━━━━━\u001b[0m\u001b[37m━\u001b[0m \u001b[1m0s\u001b[0m 631ms/step - accuracy: 0.9796 - loss: 0.0584\n",
            "Epoch 9: val_loss improved from 0.09396 to 0.09056, saving model to mnbest_model.keras\n",
            "\u001b[1m94/94\u001b[0m \u001b[32m━━━━━━━━━━━━━━━━━━━━\u001b[0m\u001b[37m\u001b[0m \u001b[1m134s\u001b[0m 773ms/step - accuracy: 0.9795 - loss: 0.0584 - val_accuracy: 0.9704 - val_loss: 0.0906 - learning_rate: 5.0000e-04\n",
            "Epoch 10/50\n",
            "\u001b[1m94/94\u001b[0m \u001b[32m━━━━━━━━━━━━━━━━━━━━\u001b[0m\u001b[37m\u001b[0m \u001b[1m0s\u001b[0m 631ms/step - accuracy: 0.9822 - loss: 0.0462\n",
            "Epoch 10: val_loss did not improve from 0.09056\n",
            "\u001b[1m94/94\u001b[0m \u001b[32m━━━━━━━━━━━━━━━━━━━━\u001b[0m\u001b[37m\u001b[0m \u001b[1m82s\u001b[0m 774ms/step - accuracy: 0.9822 - loss: 0.0463 - val_accuracy: 0.9719 - val_loss: 0.0914 - learning_rate: 5.0000e-04\n",
            "Epoch 11/50\n",
            "\u001b[1m93/94\u001b[0m \u001b[32m━━━━━━━━━━━━━━━━━━━\u001b[0m\u001b[37m━\u001b[0m \u001b[1m0s\u001b[0m 650ms/step - accuracy: 0.9855 - loss: 0.0416\n",
            "Epoch 11: val_loss did not improve from 0.09056\n",
            "\n",
            "Epoch 11: ReduceLROnPlateau reducing learning rate to 0.0002500000118743628.\n",
            "\u001b[1m94/94\u001b[0m \u001b[32m━━━━━━━━━━━━━━━━━━━━\u001b[0m\u001b[37m\u001b[0m \u001b[1m85s\u001b[0m 864ms/step - accuracy: 0.9855 - loss: 0.0417 - val_accuracy: 0.9719 - val_loss: 0.0937 - learning_rate: 5.0000e-04\n",
            "Epoch 12/50\n",
            "\u001b[1m93/94\u001b[0m \u001b[32m━━━━━━━━━━━━━━━━━━━\u001b[0m\u001b[37m━\u001b[0m \u001b[1m0s\u001b[0m 633ms/step - accuracy: 0.9858 - loss: 0.0433\n",
            "Epoch 12: val_loss improved from 0.09056 to 0.09020, saving model to mnbest_model.keras\n",
            "\u001b[1m94/94\u001b[0m \u001b[32m━━━━━━━━━━━━━━━━━━━━\u001b[0m\u001b[37m\u001b[0m \u001b[1m78s\u001b[0m 774ms/step - accuracy: 0.9859 - loss: 0.0432 - val_accuracy: 0.9711 - val_loss: 0.0902 - learning_rate: 2.5000e-04\n",
            "Epoch 13/50\n",
            "\u001b[1m94/94\u001b[0m \u001b[32m━━━━━━━━━━━━━━━━━━━━\u001b[0m\u001b[37m\u001b[0m \u001b[1m0s\u001b[0m 640ms/step - accuracy: 0.9870 - loss: 0.0358\n",
            "Epoch 13: val_loss improved from 0.09020 to 0.08934, saving model to mnbest_model.keras\n",
            "\u001b[1m94/94\u001b[0m \u001b[32m━━━━━━━━━━━━━━━━━━━━\u001b[0m\u001b[37m\u001b[0m \u001b[1m78s\u001b[0m 787ms/step - accuracy: 0.9870 - loss: 0.0358 - val_accuracy: 0.9727 - val_loss: 0.0893 - learning_rate: 2.5000e-04\n",
            "Epoch 14/50\n",
            "\u001b[1m93/94\u001b[0m \u001b[32m━━━━━━━━━━━━━━━━━━━\u001b[0m\u001b[37m━\u001b[0m \u001b[1m0s\u001b[0m 647ms/step - accuracy: 0.9895 - loss: 0.0353\n",
            "Epoch 14: val_loss did not improve from 0.08934\n",
            "\u001b[1m94/94\u001b[0m \u001b[32m━━━━━━━━━━━━━━━━━━━━\u001b[0m\u001b[37m\u001b[0m \u001b[1m89s\u001b[0m 861ms/step - accuracy: 0.9895 - loss: 0.0354 - val_accuracy: 0.9680 - val_loss: 0.0958 - learning_rate: 2.5000e-04\n",
            "Epoch 15/50\n",
            "\u001b[1m93/94\u001b[0m \u001b[32m━━━━━━━━━━━━━━━━━━━\u001b[0m\u001b[37m━\u001b[0m \u001b[1m0s\u001b[0m 636ms/step - accuracy: 0.9890 - loss: 0.0340\n",
            "Epoch 15: val_loss did not improve from 0.08934\n",
            "\n",
            "Epoch 15: ReduceLROnPlateau reducing learning rate to 0.0001250000059371814.\n",
            "\u001b[1m94/94\u001b[0m \u001b[32m━━━━━━━━━━━━━━━━━━━━\u001b[0m\u001b[37m\u001b[0m \u001b[1m141s\u001b[0m 850ms/step - accuracy: 0.9891 - loss: 0.0339 - val_accuracy: 0.9696 - val_loss: 0.0956 - learning_rate: 2.5000e-04\n",
            "Epoch 16/50\n",
            "\u001b[1m93/94\u001b[0m \u001b[32m━━━━━━━━━━━━━━━━━━━\u001b[0m\u001b[37m━\u001b[0m \u001b[1m0s\u001b[0m 647ms/step - accuracy: 0.9885 - loss: 0.0327\n",
            "Epoch 16: val_loss improved from 0.08934 to 0.08821, saving model to mnbest_model.keras\n",
            "\u001b[1m94/94\u001b[0m \u001b[32m━━━━━━━━━━━━━━━━━━━━\u001b[0m\u001b[37m\u001b[0m \u001b[1m136s\u001b[0m 787ms/step - accuracy: 0.9885 - loss: 0.0326 - val_accuracy: 0.9704 - val_loss: 0.0882 - learning_rate: 1.2500e-04\n",
            "Epoch 17/50\n",
            "\u001b[1m94/94\u001b[0m \u001b[32m━━━━━━━━━━━━━━━━━━━━\u001b[0m\u001b[37m\u001b[0m \u001b[1m0s\u001b[0m 627ms/step - accuracy: 0.9921 - loss: 0.0290\n",
            "Epoch 17: val_loss did not improve from 0.08821\n",
            "\u001b[1m94/94\u001b[0m \u001b[32m━━━━━━━━━━━━━━━━━━━━\u001b[0m\u001b[37m\u001b[0m \u001b[1m77s\u001b[0m 775ms/step - accuracy: 0.9921 - loss: 0.0290 - val_accuracy: 0.9711 - val_loss: 0.0882 - learning_rate: 1.2500e-04\n",
            "Epoch 18/50\n",
            "\u001b[1m94/94\u001b[0m \u001b[32m━━━━━━━━━━━━━━━━━━━━\u001b[0m\u001b[37m\u001b[0m \u001b[1m0s\u001b[0m 636ms/step - accuracy: 0.9904 - loss: 0.0319\n",
            "Epoch 18: val_loss did not improve from 0.08821\n",
            "\n",
            "Epoch 18: ReduceLROnPlateau reducing learning rate to 6.25000029685907e-05.\n",
            "\u001b[1m94/94\u001b[0m \u001b[32m━━━━━━━━━━━━━━━━━━━━\u001b[0m\u001b[37m\u001b[0m \u001b[1m82s\u001b[0m 776ms/step - accuracy: 0.9905 - loss: 0.0319 - val_accuracy: 0.9711 - val_loss: 0.0900 - learning_rate: 1.2500e-04\n",
            "Epoch 19/50\n",
            "\u001b[1m93/94\u001b[0m \u001b[32m━━━━━━━━━━━━━━━━━━━\u001b[0m\u001b[37m━\u001b[0m \u001b[1m0s\u001b[0m 647ms/step - accuracy: 0.9921 - loss: 0.0258\n",
            "Epoch 19: val_loss did not improve from 0.08821\n",
            "\u001b[1m94/94\u001b[0m \u001b[32m━━━━━━━━━━━━━━━━━━━━\u001b[0m\u001b[37m\u001b[0m \u001b[1m83s\u001b[0m 781ms/step - accuracy: 0.9921 - loss: 0.0258 - val_accuracy: 0.9727 - val_loss: 0.0900 - learning_rate: 6.2500e-05\n",
            "Epoch 20/50\n",
            "\u001b[1m94/94\u001b[0m \u001b[32m━━━━━━━━━━━━━━━━━━━━\u001b[0m\u001b[37m\u001b[0m \u001b[1m0s\u001b[0m 633ms/step - accuracy: 0.9934 - loss: 0.0231\n",
            "Epoch 20: val_loss did not improve from 0.08821\n",
            "\n",
            "Epoch 20: ReduceLROnPlateau reducing learning rate to 3.125000148429535e-05.\n",
            "\u001b[1m94/94\u001b[0m \u001b[32m━━━━━━━━━━━━━━━━━━━━\u001b[0m\u001b[37m\u001b[0m \u001b[1m84s\u001b[0m 854ms/step - accuracy: 0.9934 - loss: 0.0231 - val_accuracy: 0.9719 - val_loss: 0.0885 - learning_rate: 6.2500e-05\n",
            "Epoch 20: early stopping\n",
            "Restoring model weights from the end of the best epoch: 16.\n"
          ]
        }
      ],
      "source": [
        "# Create the MobileNet model\n",
        "base_model = MobileNet(weights='imagenet', include_top=False, input_shape=(224,224, 3))\n",
        "\n",
        "# Add custom layers for classification\n",
        "x = base_model.output\n",
        "x = GlobalAveragePooling2D()(x)\n",
        "x = Dense(1024, activation='relu')(x)\n",
        "x = Dropout(0.5)(x)\n",
        "predictions = Dense(1, activation='sigmoid')(x)\n",
        "\n",
        "# Create the final model\n",
        "mnmodel = Model(inputs=base_model.input, outputs=predictions)\n",
        "\n",
        "# Freeze the layers of the pre-trained MobileNet\n",
        "for layer in base_model.layers:\n",
        "    layer.trainable = False\n",
        "\n",
        "# Compile the model\n",
        "mnmodel.compile(optimizer=Adam(learning_rate=0.001), loss='binary_crossentropy', metrics=['accuracy'])\n",
        "\n",
        "# Define the ModelCheckpoint callback to save the best model (lowest validation loss)\n",
        "checkpoint = ModelCheckpoint(\n",
        "    f\"mnbest_model.keras{mnmodel}\",         # File to save the best model\n",
        "    monitor='val_loss',           # Monitor the validation loss\n",
        "    save_best_only=True,          # Save only the best model\n",
        "    mode='min',                   # Minimize the validation loss\n",
        "    verbose=1                     # Verbosity level\n",
        ")\n",
        "\n",
        "# Define EarlyStopping callback to stop training when validation loss stops improving\n",
        "early_stopping = EarlyStopping(\n",
        "    monitor='val_loss',           # Monitor the validation loss\n",
        "    patience=4,                   # Number of epochs with no improvement after which training will be stopped\n",
        "    restore_best_weights=True,    # Restore the best model weights\n",
        "    verbose=1                     # Verbosity level\n",
        ")\n",
        "\n",
        "# Define ReduceLROnPlateau callback to reduce learning rate when validation loss stops improving\n",
        "reduce_lr = ReduceLROnPlateau(\n",
        "    monitor='val_loss',           # Monitor the validation loss\n",
        "    factor=0.5,                   # Factor by which the learning rate will be reduced (new_lr = lr * factor)\n",
        "    patience=2,                   # Number of epochs with no improvement before reducing the learning rate\n",
        "    min_lr=1e-6,                  # Minimum learning rate allowed\n",
        "    verbose=1                     # Verbosity level\n",
        ")\n",
        "\n",
        "# Train the model with checkpoint, early stopping, and learning rate reduction on plateau callbacks\n",
        "historymn = mnmodel.fit(\n",
        "    train_data,\n",
        "    epochs=50,                    # Max number of epochs\n",
        "    validation_data=val_data,\n",
        "    callbacks=[checkpoint, early_stopping, reduce_lr]  # Include all callbacks\n",
        ")\n"
      ]
    },
    {
      "cell_type": "code",
      "execution_count": 18,
      "metadata": {
        "id": "yia5YdjQq21-"
      },
      "outputs": [],
      "source": [
        "import numpy as np\n",
        "import matplotlib.pyplot as plt\n",
        "import seaborn as sns\n",
        "from sklearn.metrics import (confusion_matrix, roc_curve, roc_auc_score,\n",
        "                             log_loss, accuracy_score, precision_score,\n",
        "                             recall_score, f1_score)\n",
        "\n",
        "def evaluate_model_on_test_data(model, test_data, history=None):\n",
        "    # Reset the generator to ensure starting from the beginning\n",
        "    test_data.reset()\n",
        "\n",
        "    # Get predictions and true labels\n",
        "    predictions = model.predict(test_data, verbose=1)\n",
        "    predicted_classes = (predictions > 0.5).astype(int).reshape(-1)  # Convert probabilities to binary (0 or 1)\n",
        "\n",
        "    true_classes = test_data.classes  # True labels from the generator\n",
        "\n",
        "    # Calculate metrics\n",
        "    accuracy = accuracy_score(true_classes, predicted_classes)\n",
        "    precision = precision_score(true_classes, predicted_classes)\n",
        "    recall = recall_score(true_classes, predicted_classes)\n",
        "    f1 = f1_score(true_classes, predicted_classes)\n",
        "    auc = roc_auc_score(true_classes, predictions)  # Use probabilities for AUC\n",
        "    loss = log_loss(true_classes, predictions)        # Calculate Log Loss\n",
        "    cm = confusion_matrix(true_classes, predicted_classes)\n",
        "\n",
        "    # Print the results\n",
        "    print(f\"Accuracy: {accuracy:.4f}\")\n",
        "    print(f\"Precision: {precision:.4f}\")\n",
        "    print(f\"Recall: {recall:.4f}\")\n",
        "    print(f\"F1 Score: {f1:.4f}\")\n",
        "    print(f\"AUC: {auc:.4f}\")\n",
        "    print(f\"Log Loss: {loss:.4f}\")\n",
        "\n",
        "    # Create subplots for all visualizations\n",
        "    fig, axes = plt.subplots(1, 3, figsize=(18, 6))\n",
        "\n",
        "    # Plot Confusion Matrix\n",
        "    sns.heatmap(cm, annot=True, fmt='d', cmap='Blues', xticklabels=['Normal', 'Pneumonia'], yticklabels=['Normal', 'Pneumonia'], ax=axes[0])\n",
        "    axes[0].set_title('Confusion Matrix')\n",
        "    axes[0].set_xlabel('Predicted Label')\n",
        "    axes[0].set_ylabel('True Label')\n",
        "\n",
        "    # Plot ROC Curve\n",
        "    fpr, tpr, _ = roc_curve(true_classes, predictions)\n",
        "    axes[1].plot(fpr, tpr, color='blue', label=f'ROC curve (area = {auc:.4f})')\n",
        "    axes[1].plot([0, 1], [0, 1], color='grey', linestyle='--')\n",
        "    axes[1].set_title('Receiver Operating Characteristic (ROC)')\n",
        "    axes[1].set_xlabel('False Positive Rate')\n",
        "    axes[1].set_ylabel('True Positive Rate')\n",
        "    axes[1].legend(loc='lower right')\n",
        "\n",
        "    if history:\n",
        "        # Plot Learning Curve\n",
        "        epochs = np.arange(1, len(history.history['accuracy']) + 1)\n",
        "        train_loss = history.history['loss']\n",
        "        val_loss = history.history['val_loss']\n",
        "        train_accuracy = history.history['accuracy']\n",
        "        val_accuracy = history.history['val_accuracy']\n",
        "\n",
        "        axes[2].plot(epochs, train_accuracy, label='Train Accuracy', color='blue')\n",
        "        axes[2].plot(epochs, val_accuracy, label='Validation Accuracy', color='orange')\n",
        "        axes[2].plot(epochs, train_loss, label='Train Loss', color='green')\n",
        "        axes[2].plot(epochs, val_loss, label='Validation Loss', color='red')\n",
        "        axes[2].set_title('Learning Curve')\n",
        "        axes[2].set_xlabel('Epoch')\n",
        "        axes[2].set_ylabel('Value')\n",
        "        axes[2].legend()\n",
        "\n",
        "    plt.tight_layout()\n",
        "    plt.show()\n",
        "\n",
        "    return accuracy, precision, recall, f1, auc, loss, cm\n"
      ]
    },
    {
      "cell_type": "code",
      "execution_count": 19,
      "metadata": {
        "colab": {
          "base_uri": "https://localhost:8080/",
          "height": 628
        },
        "id": "yryRm78cyA_I",
        "outputId": "bc99186d-02bd-45dc-c13a-72fda1234f01"
      },
      "outputs": [
        {
          "name": "stdout",
          "output_type": "stream",
          "text": [
            "\u001b[1m21/21\u001b[0m \u001b[32m━━━━━━━━━━━━━━━━━━━━\u001b[0m\u001b[37m\u001b[0m \u001b[1m13s\u001b[0m 618ms/step\n",
            "Accuracy: 0.9782\n",
            "Precision: 0.9842\n",
            "Recall: 0.9719\n",
            "F1 Score: 0.9780\n",
            "AUC: 0.9980\n",
            "Log Loss: 0.0579\n"
          ]
        },
        {
          "data": {
            "image/png": "[encoded data removed]",
            "text/plain": [
              "<Figure size 1800x600 with 4 Axes>"
            ]
          },
          "metadata": {},
          "output_type": "display_data"
        }
      ],
      "source": [
        "accuracy, precision, recall, f1, auc, loss, cm = evaluate_model_on_test_data(mnmodel, test_data,history=historymn)"
      ]
    },
    {
      "cell_type": "markdown",
      "metadata": {
        "id": "2N3-zOSK1Tow"
      },
      "source": [
        "# ***Analysis***\n",
        "Accuracy (0.9782): The model correctly classified 97.82% of the test samples. This is very high, indicating that the model is performing well overall.\n",
        "\n",
        "Precision (0.9842): Of all the instances predicted as positive (pneumonia), 98.42% were true positives. This shows that the model is very good at identifying positive cases without many false positives.\n",
        "\n",
        "Recall (0.9719): Out of all the actual positive cases, the model identified 97.19%. This indicates that the model is good at capturing most of the positive cases, with only a small percentage of false negatives.\n",
        "\n",
        "F1 Score (0.9780): The F1 score, which is the harmonic mean of precision and recall, is very high. It balances the trade-off between precision and recall, and a score close to 1 indicates excellent performance.\n",
        "\n",
        "AUC (0.9980): The Area Under the Receiver Operating Characteristic (ROC) Curve is nearly 1, which suggests that the model is exceptionally good at distinguishing between the classes.\n",
        "\n",
        "Log Loss (0.0579): This value measures the performance of the classification model where lower values indicate better performance. A log loss close to 0 suggests that the model's probability predictions are very accurate."
      ]
    },
    {
      "cell_type": "code",
      "execution_count": null,
      "metadata": {
        "id": "ae6PVIas2Vzr"
      },
      "outputs": [],
      "source": []
    }
  ],
  "metadata": {
    "accelerator": "GPU",
    "colab": {
      "gpuType": "T4",
      "provenance": []
    },
    "kernelspec": {
      "display_name": "Python 3",
      "name": "python3"
    },
    "language_info": {
      "name": "python"
    }
  },
  "nbformat": 4,
  "nbformat_minor": 0
}
